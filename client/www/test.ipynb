{
 "cells": [
  {
   "cell_type": "code",
   "execution_count": 25,
   "metadata": {
    "collapsed": true
   },
   "outputs": [
    {
     "name": "stdout",
     "output_type": "stream",
     "text": [
      "eeeeee, logic\n",
      "hehe, finally\n",
      "20\n",
      "----------------\n",
      "eeeeee, logic\n",
      "hehe, finally\n",
      "20\n"
     ]
    }
   ],
   "source": [
    "logic = True\n",
    "def test():\n",
    "    try:\n",
    "        if logic:\n",
    "            print('eeeeee, logic')\n",
    "            return 15\n",
    "    finally:\n",
    "        print('hehe, finally')\n",
    "        return 20\n",
    "print(test())\n",
    "print('----------------')\n",
    "print(test())"
   ]
  },
  {
   "cell_type": "code",
   "execution_count": 23,
   "outputs": [
    {
     "name": "stdout",
     "output_type": "stream",
     "text": [
      "<_sre.SRE_Match object; span=(0, 23), match='Smotrovi smotr smotrim '>\n"
     ]
    }
   ],
   "source": [
    "import re\n",
    "\n",
    "source = 'Smotrovi smotr smotrim '\n",
    "find = re.search('.*otr.*', source)\n",
    "find\n",
    "print(find)"
   ],
   "metadata": {
    "collapsed": false
   }
  },
  {
   "cell_type": "code",
   "execution_count": null,
   "outputs": [],
   "source": [],
   "metadata": {
    "collapsed": false
   }
  }
 ],
 "metadata": {
  "kernelspec": {
   "display_name": "Python 3",
   "language": "python",
   "name": "python3"
  },
  "language_info": {
   "codemirror_mode": {
    "name": "ipython",
    "version": 2
   },
   "file_extension": ".py",
   "mimetype": "text/x-python",
   "name": "python",
   "nbconvert_exporter": "python",
   "pygments_lexer": "ipython2",
   "version": "2.7.6"
  }
 },
 "nbformat": 4,
 "nbformat_minor": 0
}
